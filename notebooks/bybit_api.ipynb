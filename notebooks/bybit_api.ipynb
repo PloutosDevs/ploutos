{
 "cells": [
  {
   "cell_type": "code",
   "execution_count": 1,
   "metadata": {},
   "outputs": [],
   "source": [
    "# Execute extenttion to reload files in project dir\n",
    "%load_ext autoreload\n",
    "%autoreload 2"
   ]
  },
  {
   "cell_type": "code",
   "execution_count": 2,
   "metadata": {},
   "outputs": [],
   "source": [
    "# Add link to project root\n",
    "import sys, os\n",
    "sys.path.append(os.path.abspath('..'))"
   ]
  },
  {
   "cell_type": "code",
   "execution_count": 89,
   "metadata": {},
   "outputs": [],
   "source": [
    "from source import utils\n",
    "import uuid"
   ]
  },
  {
   "cell_type": "markdown",
   "metadata": {},
   "source": [
    "### Документация к АПИ\n",
    "https://bybit-exchange.github.io/docs/v5/intro"
   ]
  },
  {
   "cell_type": "code",
   "execution_count": 27,
   "metadata": {},
   "outputs": [],
   "source": [
    "# Получаем сессию по кредам\n",
    "from pybit.unified_trading import HTTP\n",
    "session = HTTP(\n",
    "    # testnet=True,\n",
    "    api_key=utils.get_secrets('BYBIT_BOT_API'),\n",
    "    api_secret=utils.get_secrets('BYBIT_BOT_SECRET'),\n",
    ")"
   ]
  },
  {
   "cell_type": "code",
   "execution_count": 39,
   "metadata": {},
   "outputs": [
    {
     "data": {
      "text/plain": [
       "{'timeSecond': '1709400948', 'timeNano': '1709400948960740335'}"
      ]
     },
     "execution_count": 39,
     "metadata": {},
     "output_type": "execute_result"
    }
   ],
   "source": [
    "# Получанние серверного времени\n",
    "session.get_server_time()['result']"
   ]
  },
  {
   "cell_type": "code",
   "execution_count": 40,
   "metadata": {},
   "outputs": [
    {
     "data": {
      "text/plain": [
       "{'list': [{'accountType': 'spot',\n",
       "   'accountIMRate': '',\n",
       "   'accountMMRate': '',\n",
       "   'accountLTV': '',\n",
       "   'totalEquity': '',\n",
       "   'totalWalletBalance': '',\n",
       "   'totalMarginBalance': '',\n",
       "   'totalAvailableBalance': '',\n",
       "   'totalPerpUPL': '',\n",
       "   'totalInitialMargin': '',\n",
       "   'totalMaintenanceMargin': '',\n",
       "   'coin': [{'coin': 'USDT',\n",
       "     'equity': '',\n",
       "     'usdValue': '',\n",
       "     'walletBalance': '49.4459',\n",
       "     'free': '49.4459',\n",
       "     'locked': '0',\n",
       "     'availableToWithdraw': '',\n",
       "     'availableToBorrow': '',\n",
       "     'borrowAmount': '',\n",
       "     'accruedInterest': '',\n",
       "     'totalOrderIM': '',\n",
       "     'totalPositionIM': '',\n",
       "     'totalPositionMM': '',\n",
       "     'unrealisedPnl': '',\n",
       "     'cumRealisedPnl': ''}]}]}"
      ]
     },
     "execution_count": 40,
     "metadata": {},
     "output_type": "execute_result"
    }
   ],
   "source": []
  },
  {
   "cell_type": "markdown",
   "metadata": {},
   "source": [
    "### Пробуем провести транзакцию"
   ]
  },
  {
   "cell_type": "code",
   "execution_count": 131,
   "metadata": {},
   "outputs": [
    {
     "data": {
      "text/plain": [
       "{'retCode': 0,\n",
       " 'retMsg': 'OK',\n",
       " 'result': {'category': 'linear',\n",
       "  'list': [{'symbol': 'BTCUSDT',\n",
       "    'contractType': 'LinearPerpetual',\n",
       "    'status': 'Trading',\n",
       "    'baseCoin': 'BTC',\n",
       "    'quoteCoin': 'USDT',\n",
       "    'launchTime': '1584230400000',\n",
       "    'deliveryTime': '0',\n",
       "    'deliveryFeeRate': '',\n",
       "    'priceScale': '2',\n",
       "    'leverageFilter': {'minLeverage': '1',\n",
       "     'maxLeverage': '100.00',\n",
       "     'leverageStep': '0.01'},\n",
       "    'priceFilter': {'minPrice': '0.10',\n",
       "     'maxPrice': '199999.80',\n",
       "     'tickSize': '0.10'},\n",
       "    'lotSizeFilter': {'maxOrderQty': '155.000',\n",
       "     'minOrderQty': '0.001',\n",
       "     'qtyStep': '0.001',\n",
       "     'postOnlyMaxOrderQty': '155.000',\n",
       "     'maxMktOrderQty': '100.000'},\n",
       "    'unifiedMarginTrade': True,\n",
       "    'fundingInterval': 480,\n",
       "    'settleCoin': 'USDT',\n",
       "    'copyTrading': 'both',\n",
       "    'upperFundingRate': '0.00375',\n",
       "    'lowerFundingRate': '-0.00375'}],\n",
       "  'nextPageCursor': ''},\n",
       " 'retExtInfo': {},\n",
       " 'time': 1709410516753}"
      ]
     },
     "execution_count": 131,
     "metadata": {},
     "output_type": "execute_result"
    }
   ],
   "source": [
    "session.get_instruments_info(\n",
    "    category=\"linear\",\n",
    "    symbol=\"BTCUSDT\",\n",
    ")"
   ]
  },
  {
   "cell_type": "code",
   "execution_count": 70,
   "metadata": {},
   "outputs": [
    {
     "name": "stdout",
     "output_type": "stream",
     "text": [
      "Your USDT balance is 49.4459\n"
     ]
    }
   ],
   "source": [
    "# Получить баланс на спот аккаунте по валюте\n",
    "usdt_balance = session.get_wallet_balance(\n",
    "    accountType=\"spot\",\n",
    "    coin=\"USDT\",\n",
    ")['result']['list'][0]['coin'][0]['walletBalance']\n",
    "\n",
    "print(f'Your USDT balance is {usdt_balance}')"
   ]
  },
  {
   "cell_type": "code",
   "execution_count": 78,
   "metadata": {},
   "outputs": [
    {
     "name": "stdout",
     "output_type": "stream",
     "text": [
      "last proce of MANTAUSDT is 2.8752 USDT\n",
      "for order volume of 5 you can buy 1.73901 MANTAUSDT\n"
     ]
    }
   ],
   "source": [
    "TIKER_TO_BUY = 'MANTAUSDT'\n",
    "ORDER_DEPO = 5 # USDT\n",
    "\n",
    "last_price = float(session.get_tickers(category=\"spot\", symbol=TIKER_TO_BUY,)['result']['list'][0]['lastPrice'])\n",
    "order_qty = round(ORDER_VALUE / last_price, 5)\n",
    "print(f\"last proce of {TIKER_TO_BUY} is {last_price} USDT\")\n",
    "print(f'for order volume of {ORDER_VALUE} you can buy {order_qty} {TIKER_TO_BUY}')"
   ]
  },
  {
   "cell_type": "code",
   "execution_count": 82,
   "metadata": {},
   "outputs": [
    {
     "data": {
      "text/plain": [
       "{'retCode': 0,\n",
       " 'retMsg': 'OK',\n",
       " 'result': {'orderId': '1633001775002849536',\n",
       "  'orderLinkId': 'spot-test-postonly_'},\n",
       " 'retExtInfo': {},\n",
       " 'time': 1709404981437}"
      ]
     },
     "execution_count": 82,
     "metadata": {},
     "output_type": "execute_result"
    }
   ],
   "source": [
    "# Покупаем на споте \n",
    "\n",
    "# session.place_order(\n",
    "#     category=\"spot\", # spot, linear, inverse, option\n",
    "#     symbol=TIKER_TO_BUY,\n",
    "#     side=\"Buy\", # Buy, Sell\n",
    "#     orderType=\"Market\", # Market | Limit\n",
    "#     qty=ORDER_DEPO - order_qty, # in USDT\n",
    "#     # price=\"15600\", # Market order will ignore this field\n",
    "#     # timeInForce=\"PostOnly\",\n",
    "#     # orderLinkId=str(uuid.uuid4()),\n",
    "#     isLeverage=0,\n",
    "#     orderFilter=\"Order\",\n",
    "# )"
   ]
  },
  {
   "cell_type": "code",
   "execution_count": 93,
   "metadata": {},
   "outputs": [
    {
     "name": "stdout",
     "output_type": "stream",
     "text": [
      "Your USDT balance is 44.46983\n"
     ]
    }
   ],
   "source": [
    "# Получить баланс на аккаунте фьючей по валюте\n",
    "usdt_balance = session.get_wallet_balance(\n",
    "    accountType=\"UNIFIED\",\n",
    "    coin=\"USDT\",\n",
    ")['result']['list'][0]['coin'][0]['walletBalance']\n",
    "\n",
    "print(f'Your USDT balance is {usdt_balance}')"
   ]
  },
  {
   "cell_type": "code",
   "execution_count": 118,
   "metadata": {},
   "outputs": [
    {
     "data": {
      "text/plain": [
       "{'retCode': 0,\n",
       " 'retMsg': 'OK',\n",
       " 'result': {},\n",
       " 'retExtInfo': {},\n",
       " 'time': 1709409088980}"
      ]
     },
     "execution_count": 118,
     "metadata": {},
     "output_type": "execute_result"
    }
   ],
   "source": [
    "# Поставить плечо для тикера\n",
    "session.set_leverage(\n",
    "    category=\"linear\",\n",
    "    symbol=TIKER_TO_BUY,\n",
    "    buyLeverage=\"8\",\n",
    "    sellLeverage=\"8\",\n",
    ")"
   ]
  },
  {
   "cell_type": "code",
   "execution_count": 122,
   "metadata": {},
   "outputs": [
    {
     "data": {
      "text/plain": [
       "{'retCode': 0,\n",
       " 'retMsg': 'OK',\n",
       " 'result': {'orderId': '6c10aa88-830c-4eb6-8cab-cb60d0fa02c6',\n",
       "  'orderLinkId': ''},\n",
       " 'retExtInfo': {},\n",
       " 'time': 1709409563067}"
      ]
     },
     "execution_count": 122,
     "metadata": {},
     "output_type": "execute_result"
    }
   ],
   "source": [
    "# Покупаем фьючи \n",
    "session.place_order(\n",
    "    category=\"linear\", # spot, linear, inverse, option\n",
    "    symbol=TIKER_TO_BUY,\n",
    "    side=\"Buy\", # Buy, Sell\n",
    "    orderType=\"Market\", # Market | Limit\n",
    "    qty=5, # in USDT\n",
    "    # price=\"15600\", # Market order will ignore this field\n",
    "    # timeInForce=\"PostOnly\",\n",
    "    # orderLinkId=str(uuid.uuid4()),\n",
    "    # reduceOnly=True,\n",
    "    isLeverage=1,\n",
    "    # orderIv=0.05,\n",
    "    orderFilter=\"Order\",\n",
    ")"
   ]
  },
  {
   "cell_type": "code",
   "execution_count": 119,
   "metadata": {},
   "outputs": [
    {
     "data": {
      "text/plain": [
       "{'retCode': 0,\n",
       " 'retMsg': 'OK',\n",
       " 'result': {'nextPageCursor': '', 'category': 'linear', 'list': []},\n",
       " 'retExtInfo': {},\n",
       " 'time': 1709409295409}"
      ]
     },
     "execution_count": 119,
     "metadata": {},
     "output_type": "execute_result"
    }
   ],
   "source": [
    "session.get_open_orders(\n",
    "    category=\"linear\",\n",
    "    symbol=TIKER_TO_BUY,\n",
    "    openOnly=0,\n",
    "    limit=1,\n",
    ")"
   ]
  },
  {
   "cell_type": "code",
   "execution_count": null,
   "metadata": {},
   "outputs": [],
   "source": []
  }
 ],
 "metadata": {
  "kernelspec": {
   "display_name": "Python 3",
   "language": "python",
   "name": "python3"
  },
  "language_info": {
   "codemirror_mode": {
    "name": "ipython",
    "version": 3
   },
   "file_extension": ".py",
   "mimetype": "text/x-python",
   "name": "python",
   "nbconvert_exporter": "python",
   "pygments_lexer": "ipython3",
   "version": "3.10.13"
  }
 },
 "nbformat": 4,
 "nbformat_minor": 2
}
